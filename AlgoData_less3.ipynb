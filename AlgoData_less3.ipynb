{
 "cells": [
  {
   "cell_type": "code",
   "execution_count": 18,
   "id": "2af35d8e",
   "metadata": {},
   "outputs": [],
   "source": [
    "import numpy as np\n",
    "import matplotlib.pyplot as plt"
   ]
  },
  {
   "cell_type": "code",
   "execution_count": 19,
   "id": "58cab417",
   "metadata": {},
   "outputs": [],
   "source": [
    "X = np.array([ [   1,    1,  500,    1],\n",
    "               [   1,    1,  700,    1],\n",
    "               [   1,    2,  750,    2],\n",
    "               [   1,    5,  600,    1],\n",
    "               [   1,    3, 1450,    2],\n",
    "               [   1,    0,  800,    1],\n",
    "               [   1,    5, 1500,    3],\n",
    "               [   1,   10, 2000,    3],\n",
    "               [   1,    1,  450,    1],\n",
    "               [   1,    2, 1000,    2]], dtype=np.float64)\n",
    "\n",
    "y = np.array([0, 0, 1, 0, 1, 0, 1, 0, 1, 1], dtype=np.float64)"
   ]
  },
  {
   "cell_type": "code",
   "execution_count": 20,
   "id": "3ead5908",
   "metadata": {},
   "outputs": [],
   "source": [
    "def standard_scale(x):\n",
    "    res = (x - x.mean()) / x.std()\n",
    "    return res"
   ]
  },
  {
   "cell_type": "code",
   "execution_count": 45,
   "id": "7a055098",
   "metadata": {},
   "outputs": [],
   "source": [
    "X_st = X.copy()\n",
    "X_st[:, 2] = standard_scale(X[:, 2])"
   ]
  },
  {
   "cell_type": "markdown",
   "id": "a6eab5a9",
   "metadata": {},
   "source": [
    "### Задача № 1*\n",
    "поменять код функции calc_logloss таким образом чтобы ошибка вычислялась при точном предсказании"
   ]
  },
  {
   "cell_type": "code",
   "execution_count": 68,
   "id": "741789d7",
   "metadata": {},
   "outputs": [],
   "source": [
    "def calc_logloss(y, y_pred):\n",
    "    y_pred_float = y_pred.copy().astype(np.float64)\n",
    "    y_pred_float[y_pred_float == 0.0] = 0.1\n",
    "    y_pred_float[y_pred_float == 1.0] = 0.9\n",
    "    err = - np.mean(y * np.log(y_pred_float) + (1.0 - y) * np.log(1.0 - y_pred_float))\n",
    "    return err"
   ]
  },
  {
   "cell_type": "markdown",
   "id": "9674c6af",
   "metadata": {},
   "source": [
    "изменим код функции таким образом, чтобы значения 0 и 1 заменялись на 0.1 и на 0.9 соотвественно."
   ]
  },
  {
   "cell_type": "code",
   "execution_count": 73,
   "id": "e28419e5",
   "metadata": {},
   "outputs": [
    {
     "data": {
      "text/plain": [
       "0.30809306971190853"
      ]
     },
     "execution_count": 73,
     "metadata": {},
     "output_type": "execute_result"
    }
   ],
   "source": [
    "#проверка функции\n",
    "y1 = np.array([1, 0])\n",
    "y_pred1 = np.array([0.6, 0.1])\n",
    "calc_logloss(y1, y_pred1)"
   ]
  },
  {
   "cell_type": "code",
   "execution_count": 74,
   "id": "c9788d7d",
   "metadata": {},
   "outputs": [
    {
     "data": {
      "text/plain": [
       "0.10536051565782628"
      ]
     },
     "execution_count": 74,
     "metadata": {},
     "output_type": "execute_result"
    }
   ],
   "source": [
    "# еще одна проверка функции\n",
    "y1 = np.array([1, 0])\n",
    "y_pred1 = np.array([1, 0])\n",
    "calc_logloss(y1, y_pred1)"
   ]
  },
  {
   "cell_type": "markdown",
   "id": "fed28973",
   "metadata": {},
   "source": [
    "### Задача №2 \n",
    "подобрать аргументы функции eval_model для логистической регрессии таким образом, чтобы log loss был минимальным."
   ]
  },
  {
   "cell_type": "code",
   "execution_count": 28,
   "id": "c1eacab0",
   "metadata": {},
   "outputs": [],
   "source": [
    "def eval_model(X, y, iterations, eta=1e-4):\n",
    "    np.random.seed(42)\n",
    "    W = np.random.randn(X.shape[1])\n",
    "    n = X.shape[0]\n",
    "    \n",
    "    for i in range(iterations):\n",
    "        z = np.dot(X, W)\n",
    "        y_pred = sigmoid(z)\n",
    "        err = calc_logloss(y, y_pred)\n",
    "        \n",
    "        dQ = 1/n * X.T @ (y_pred - y)\n",
    "        W -= eta * dQ\n",
    "        if i % (iterations / 10) == 0:\n",
    "            print(i, W, err)\n",
    "    return W"
   ]
  },
  {
   "cell_type": "code",
   "execution_count": 97,
   "id": "92d1d317",
   "metadata": {},
   "outputs": [
    {
     "name": "stdout",
     "output_type": "stream",
     "text": [
      "0 [ 0.11732727 -1.58914029  0.62030812  0.95688359] 1.1785958344356262\n",
      "1000 [-10.79956087  -1.38842301  -2.43773192   9.1781253 ] 0.2316594753901533\n",
      "2000 [-15.46737926  -1.78489608  -3.84058484  12.94996634] 0.19317640063439964\n",
      "3000 [-19.06453024  -2.10307143  -4.89402886  15.87355904] 0.1703820922419324\n",
      "4000 [-22.02639821  -2.36864314  -5.74972113  18.28151701] 0.15496509524744975\n",
      "5000 [-24.55062127  -2.59641317  -6.47260633  20.33229852] 0.1437907257559476\n",
      "6000 [-26.75533033  -2.7959032   -7.1002527   22.12170973] 0.13528147157282966\n",
      "7000 [-28.71761855  -2.97355287  -7.65663776  23.71251207] 0.12855136478278142\n",
      "8000 [-30.49042692  -3.13388494  -8.15795259  25.14787759] 0.12306625393611918\n",
      "9000 [-32.11152175  -3.28017801  -8.61559398  26.45863223] 0.11848606975828083\n"
     ]
    }
   ],
   "source": [
    "W = eval_model(X_st, y, iterations=10000, eta=1)"
   ]
  },
  {
   "cell_type": "markdown",
   "id": "cacc304b",
   "metadata": {},
   "source": [
    "### Задача №3\n",
    "Создать функцию calc_pred_proba, возвращающую предсказанную вероятность класса 1 (на вход подаются W, который уже посчитан функцией eval_model и X, на выходе - массив y_pred_proba)."
   ]
  },
  {
   "cell_type": "code",
   "execution_count": 119,
   "id": "8ea84520",
   "metadata": {},
   "outputs": [
    {
     "data": {
      "text/plain": [
       "array([-33.60724757,  -3.41474448,  -9.03744936,  27.66630585])"
      ]
     },
     "execution_count": 119,
     "metadata": {},
     "output_type": "execute_result"
    }
   ],
   "source": [
    "W"
   ]
  },
  {
   "cell_type": "code",
   "execution_count": 120,
   "id": "480175b9",
   "metadata": {},
   "outputs": [],
   "source": [
    "def sigmoid(x):\n",
    "    return 1 / (1 + np.exp(-x))"
   ]
  },
  {
   "cell_type": "code",
   "execution_count": 121,
   "id": "b5a8d33b",
   "metadata": {},
   "outputs": [],
   "source": [
    "def calc_pred_proba(w, X):\n",
    "\n",
    "    A = np.squeeze(sigmoid(np.dot(X, w))) \n",
    "\n",
    "    return A"
   ]
  },
  {
   "cell_type": "code",
   "execution_count": 122,
   "id": "6f061099",
   "metadata": {},
   "outputs": [
    {
     "data": {
      "text/plain": [
       "array([3.76907782e-01, 1.43398442e-02, 9.99999995e-01, 1.09706210e-07,\n",
       "       9.32650715e-01, 6.42051408e-02, 1.00000000e+00, 2.06413788e-02,\n",
       "       6.05682604e-01, 9.99999459e-01])"
      ]
     },
     "execution_count": 122,
     "metadata": {},
     "output_type": "execute_result"
    }
   ],
   "source": [
    "# Предскажем вероятность принадлежность к классу\n",
    "p = predict(W,X_st)\n",
    "p"
   ]
  },
  {
   "cell_type": "markdown",
   "id": "02cff8a9",
   "metadata": {},
   "source": [
    "### Задача №4\n",
    "Создать функцию calc_pred, возвращающую предсказанный класс (на вход подаются W, который уже посчитан функцией eval_model и X, на выходе - массив y_pred)."
   ]
  },
  {
   "cell_type": "code",
   "execution_count": 142,
   "id": "18af287f",
   "metadata": {},
   "outputs": [],
   "source": [
    "# lim порок отнесения предсказания к классу\n",
    "\n",
    "def calc_pred(w, X, lim):\n",
    "    m = X.shape[0]\n",
    "    y_pred = np.zeros(m)\n",
    "    \n",
    "    A = np.squeeze(sigmoid(np.dot(X, w)))\n",
    "    \n",
    "    # если вероятность больше 0.5 относим к 1 классу, если меньше или равно то к 0\n",
    "    for i in range(A.shape[0]):\n",
    "        if (A[i] > lim): \n",
    "            y_pred[i] = 1\n",
    "        elif (A[i] <= lim):\n",
    "            y_pred[i] = 0\n",
    "    return y_pred\n",
    "    "
   ]
  },
  {
   "cell_type": "code",
   "execution_count": 145,
   "id": "b50e009d",
   "metadata": {},
   "outputs": [
    {
     "data": {
      "text/plain": [
       "array([0., 0., 1., 0., 1., 0., 1., 0., 0., 1.])"
      ]
     },
     "execution_count": 145,
     "metadata": {},
     "output_type": "execute_result"
    }
   ],
   "source": [
    "# сделам предсказание класса на текущих данных\n",
    "c = calc_pred(W, X_st, 0.8)\n",
    "c"
   ]
  },
  {
   "cell_type": "markdown",
   "id": "7ec9e7e1",
   "metadata": {},
   "source": [
    "### Задача № 5*\n",
    "Реализуйте функции для подсчета Accuracy, матрицы ошибок, точности и полноты, а также F1 score."
   ]
  },
  {
   "cell_type": "code",
   "execution_count": 146,
   "id": "2f1ca072",
   "metadata": {},
   "outputs": [],
   "source": [
    "# функция для посчета accuracy\n",
    "def calc_accuracy(y_pred, y):\n",
    "    accuracy = np.mean(y_pred == y) * 100.0\n",
    "    return accuracy"
   ]
  },
  {
   "cell_type": "code",
   "execution_count": 148,
   "id": "b11dd866",
   "metadata": {},
   "outputs": [
    {
     "name": "stdout",
     "output_type": "stream",
     "text": [
      "предсказанные классы: [0. 0. 1. 0. 1. 0. 1. 0. 0. 1.] при значении веротности 0.8\n",
      " заданные значения классов:      [0. 0. 1. 0. 1. 0. 1. 0. 1. 1.]\n",
      " рассчитанная точность модели (accuracy): 90.0\n"
     ]
    }
   ],
   "source": [
    "a = calc_accuracy(c, y)\n",
    "print(f\"предсказанные классы: {c} при значении веротности 0.8\\n заданные значения классов:\\\n",
    "      {y}\\n рассчитанная точность модели (accuracy): {a}\")"
   ]
  },
  {
   "cell_type": "code",
   "execution_count": 161,
   "id": "be7fd74b",
   "metadata": {},
   "outputs": [],
   "source": [
    "# функция создания матирцы ошибок\n",
    "def confusion_matrix(y_pred, y):\n",
    "    \n",
    "  \n",
    "    TP = 0\n",
    "    FP = 0\n",
    "    FN = 0\n",
    "    TN = 0\n",
    "    \n",
    "    for i in range(len(y)):\n",
    "        if y_pred[i] == y[i] == 1:\n",
    "            TP += 1 \n",
    "        if y_pred[i] == 1 and y[i] != y_pred[i]:\n",
    "            FP += 1    \n",
    "        if y_pred[i] == 0 and y[i] != y_pred[i]:\n",
    "            FN += 1\n",
    "        if y_pred[i] == y[i] == 0:\n",
    "            TN += 1\n",
    "    \n",
    "    return [TP, FP, FN, TN]\n"
   ]
  },
  {
   "cell_type": "code",
   "execution_count": 165,
   "id": "fc255b47",
   "metadata": {},
   "outputs": [
    {
     "name": "stdout",
     "output_type": "stream",
     "text": [
      "[4, 0, 1, 5]\n"
     ]
    }
   ],
   "source": [
    "print(confusion_matrix(c, y))"
   ]
  },
  {
   "cell_type": "code",
   "execution_count": 166,
   "id": "e0c4ee90",
   "metadata": {},
   "outputs": [],
   "source": [
    "# функция расчета precision\n",
    "def calc_precission(y_pred, y):\n",
    "    cm = confusion_matrix(c, y)\n",
    "    precission = cm[0] / (cm[0] + cm[1])\n",
    "    \n",
    "    return precission"
   ]
  },
  {
   "cell_type": "code",
   "execution_count": 167,
   "id": "09f83623",
   "metadata": {},
   "outputs": [],
   "source": [
    "# функция расчета recall\n",
    "def calc_recall(y_pred, y):\n",
    "    cm = confusion_matrix(c, y)\n",
    "    recall = cm[0] / (cm[0] + cm[2])\n",
    "    \n",
    "    return recall"
   ]
  },
  {
   "cell_type": "code",
   "execution_count": 168,
   "id": "625c3e08",
   "metadata": {},
   "outputs": [
    {
     "name": "stdout",
     "output_type": "stream",
     "text": [
      "1.0 0.8\n"
     ]
    }
   ],
   "source": [
    "prec, rec = calc_precission(c, y), calc_recall(c, y)\n",
    "print(prec, rec)"
   ]
  },
  {
   "cell_type": "code",
   "execution_count": 169,
   "id": "32e9b08e",
   "metadata": {},
   "outputs": [],
   "source": [
    "# функция расчета F1 score\n",
    "def f_score(prec, rec):\n",
    "    f_score = 2 * prec * rec / (prec + rec)\n",
    "    return f_score"
   ]
  },
  {
   "cell_type": "code",
   "execution_count": 170,
   "id": "acf7ffd8",
   "metadata": {},
   "outputs": [
    {
     "data": {
      "text/plain": [
       "0.888888888888889"
      ]
     },
     "execution_count": 170,
     "metadata": {},
     "output_type": "execute_result"
    }
   ],
   "source": [
    "f1 = f_score(prec, rec)\n",
    "f1"
   ]
  },
  {
   "cell_type": "markdown",
   "id": "8aa452b5",
   "metadata": {},
   "source": [
    "### Задача №6\n",
    "Могла ли модель переобучиться? Почему?"
   ]
  },
  {
   "cell_type": "markdown",
   "id": "9a0656c7",
   "metadata": {},
   "source": [
    "Переобучение - это когда модель показывает очень хорошие результаты ошибки на тренировочной выборке,\n",
    "и плохие на реальной выборке. Часто переобучение происходит из-за малого количества данных в обучающей выборке.\n",
    "Тогда модель может \"не увидеть\" всех возможных вариантов как итог мы будем иметь очень плохой результат по\n",
    "предсказанию в реальных данных.\n",
    "Еще переобучение происходит в результате однообразных данных, когда очень много одинаковых, мало различающихся \n",
    "между собой признаков.\n",
    "Если отнести сказанное к нашим данным, то да, переобучение модели возможно из-за малого количества данных в \n",
    "обучающей выборке."
   ]
  }
 ],
 "metadata": {
  "kernelspec": {
   "display_name": "Python 3",
   "language": "python",
   "name": "python3"
  },
  "language_info": {
   "codemirror_mode": {
    "name": "ipython",
    "version": 3
   },
   "file_extension": ".py",
   "mimetype": "text/x-python",
   "name": "python",
   "nbconvert_exporter": "python",
   "pygments_lexer": "ipython3",
   "version": "3.9.6"
  }
 },
 "nbformat": 4,
 "nbformat_minor": 5
}
