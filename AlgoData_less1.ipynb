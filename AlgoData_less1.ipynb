{
 "cells": [
  {
   "cell_type": "code",
   "execution_count": 1,
   "id": "d391a323",
   "metadata": {},
   "outputs": [],
   "source": [
    "import numpy as np\n",
    "import matplotlib.pyplot as plt\n",
    "from mpl_toolkits.mplot3d.axes3d import Axes3D"
   ]
  },
  {
   "cell_type": "markdown",
   "id": "a9d71d44",
   "metadata": {},
   "source": [
    "### Задание 1\n",
    "Подобрать скорость обучения (eta) и количество итераций"
   ]
  },
  {
   "cell_type": "code",
   "execution_count": 23,
   "id": "32063157",
   "metadata": {},
   "outputs": [],
   "source": [
    "X = np.array([[ 1,  1],\n",
    "              [ 1,  1],\n",
    "              [ 1,  2],\n",
    "              [ 1,  5],\n",
    "              [ 1,  3],\n",
    "              [ 1,  0],\n",
    "              [ 1,  5],\n",
    "              [ 1, 10],\n",
    "              [ 1,  1],\n",
    "              [ 1,  2]])\n",
    "y = [45, 55, 50, 55, 60, 35, 75, 80, 50, 60]"
   ]
  },
  {
   "cell_type": "code",
   "execution_count": 26,
   "id": "a45bd1c3",
   "metadata": {},
   "outputs": [],
   "source": [
    "def calc_mae(y, y_pred):\n",
    "    err = np.mean(np.abs(y - y_pred))\n",
    "    return err\n",
    "\n",
    "def calc_mse(y, y_pred):\n",
    "    err = np.mean((y - y_pred)**2)\n",
    "    return err"
   ]
  },
  {
   "cell_type": "markdown",
   "id": "6bb66547",
   "metadata": {},
   "source": [
    "Наилучшая стратегия при решение задач используя антиградиент это брать маленький шаг для скорости обучения и увеличивать количество итераций.\n",
    "Попробуем скомбинировать эти две операции"
   ]
  },
  {
   "cell_type": "code",
   "execution_count": 54,
   "id": "a3f0e4a8",
   "metadata": {},
   "outputs": [
    {
     "name": "stdout",
     "output_type": "stream",
     "text": [
      "------------------------------------------------\n",
      "Number of objects = 10        \n",
      "Learning rate = 0.01        \n",
      "Initial weights = [1.  0.5] \n",
      "\n",
      "When We change only count inter:\n",
      " Iteration #568: W_new = [44.8333813   3.85404714], MSE = 43.99\n",
      "\n",
      "\n",
      "------------------------------------------------\n",
      "------------------------------------------------\n",
      "Number of objects = 10            \n",
      "Learning rate = 0.001            \n",
      "Initial weights = [1.  0.5] \n",
      "\n",
      "When We change eta and count inter:\n",
      " Iteration #3056: W_new = [42.47602301  4.28151772], MSE = 47.13\n",
      "\n",
      "\n",
      "------------------------------------------------\n",
      "Number of objects = 10            \n",
      "Learning rate = 0.003            \n",
      "Initial weights = [1.  0.5] \n",
      "\n",
      "When We change eta and count inter:\n",
      " Iteration #1448: W_new = [44.26823233  3.9565282 ], MSE = 44.27\n",
      "\n",
      "\n",
      "------------------------------------------------\n",
      "Number of objects = 10            \n",
      "Learning rate = 0.005            \n",
      "Initial weights = [1.  0.5] \n",
      "\n",
      "When We change eta and count inter:\n",
      " Iteration #983: W_new = [44.59377299  3.89749642], MSE = 44.07\n",
      "\n",
      "\n",
      "------------------------------------------------\n",
      "Number of objects = 10            \n",
      "Learning rate = 0.007            \n",
      "Initial weights = [1.  0.5] \n",
      "\n",
      "When We change eta and count inter:\n",
      " Iteration #755: W_new = [44.73036231  3.87272805], MSE = 44.02\n",
      "\n",
      "\n",
      "------------------------------------------------\n",
      "Number of objects = 10            \n",
      "Learning rate = 0.009            \n",
      "Initial weights = [1.  0.5] \n",
      "\n",
      "When We change eta and count inter:\n",
      " Iteration #618: W_new = [44.80638949  3.85894169], MSE = 44.0\n",
      "\n",
      "\n",
      "------------------------------------------------\n",
      "Number of objects = 10            \n",
      "Learning rate = 0.012            \n",
      "Initial weights = [1.  0.5] \n",
      "\n",
      "When We change eta and count inter:\n",
      " Iteration #489: W_new = [44.87093831  3.84723676], MSE = 43.99\n",
      "\n",
      "\n",
      "------------------------------------------------\n",
      "Number of objects = 10            \n",
      "Learning rate = 0.014            \n",
      "Initial weights = [1.  0.5] \n",
      "\n",
      "When We change eta and count inter:\n",
      " Iteration #431: W_new = [44.89912638  3.84212529], MSE = 43.98\n",
      "\n",
      "\n",
      "------------------------------------------------\n",
      "Number of objects = 10            \n",
      "Learning rate = 0.016            \n",
      "Initial weights = [1.  0.5] \n",
      "\n",
      "When We change eta and count inter:\n",
      " Iteration #386: W_new = [44.9201026   3.83832157], MSE = 43.98\n",
      "\n",
      "\n",
      "------------------------------------------------\n",
      "Number of objects = 10            \n",
      "Learning rate = 0.018            \n",
      "Initial weights = [1.  0.5] \n",
      "\n",
      "When We change eta and count inter:\n",
      " Iteration #350: W_new = [44.9363466   3.83537597], MSE = 43.98\n",
      "\n",
      "\n",
      "------------------------------------------------\n",
      "Number of objects = 10            \n",
      "Learning rate = 0.02            \n",
      "Initial weights = [1.  0.5] \n",
      "\n",
      "When We change eta and count inter:\n",
      " Iteration #321: W_new = [44.95035086  3.83283652], MSE = 43.97\n",
      "\n",
      "\n"
     ]
    }
   ],
   "source": [
    "n = X.shape[0]\n",
    "\n",
    "eta = 1e-2 \n",
    "n_iter = 1000\n",
    "end_iter = 0\n",
    "\n",
    "print('-' * 48)\n",
    "W = np.array([1, 0.5])\n",
    "print(f'Number of objects = {n} \\\n",
    "       \\nLearning rate = {eta} \\\n",
    "       \\nInitial weights = {W} \\n')\n",
    "\n",
    "#ИЗМЕНЕНИЕ сделаем цикл иначе, начнем с 1 и инкрементом найдем такое значение n_iter при котором значение ошибки\n",
    "# весов W_new перестанут изменяться с точностью до третьего знака. Значение eta пока менять не будем\n",
    "\n",
    "for i in range(n_iter):\n",
    "    y_pred = np.dot(X, W)\n",
    "    err = calc_mse(y, y_pred)\n",
    "    end_iter = i\n",
    "    W_old = W.copy()\n",
    "    for k in range(W.shape[0]):\n",
    "        W[k] -= eta * (1/n * 2 * X[:, k] @ (y_pred - y))\n",
    "    if all(np.isclose(W_old, W, rtol=.0001)):\n",
    "        break\n",
    "#    if i % 10 == 0:\n",
    "#        eta /= 1.1\n",
    "#        print(f'Iteration #{i}: W_new = {W}, MSE = {round(err, 2)}')\n",
    "\n",
    "print(f'When We change only count inter:\\n Iteration #{end_iter}: W_new = {W}, MSE = {round(err, 2)}')\n",
    "print('\\n')\n",
    "print('-' * 48)\n",
    "\n",
    "#ИЗМЕНЕНИЯ теперь будем менять eta - скорость обучения\n",
    "# сделаем цикл для увеличения\n",
    "etas = [0.001, 0.003, 0.005, 0.007, 0.009, 0.012, 0.014, 0.016, 0.018, 0.02]\n",
    "n_iter = 10000\n",
    "end_iter = 0\n",
    "\n",
    "for e in etas:\n",
    "    print('-' * 48)\n",
    "    W = np.array([1, 0.5])\n",
    "    print(f'Number of objects = {n} \\\n",
    "           \\nLearning rate = {e} \\\n",
    "           \\nInitial weights = {W} \\n')\n",
    "\n",
    "#ИЗМЕНЕНИЕ сделаем цикл иначе, начнем с 1 и инкрементом найдем такое значение n_iter при котором значение ошибки\n",
    "# весов W_new перестанут изменяться с точностью до третьего знака. Значение eta пока менять не будем\n",
    "\n",
    "    for i in range(n_iter):\n",
    "        y_pred = np.dot(X, W)\n",
    "        err = calc_mse(y, y_pred)\n",
    "        end_iter = i\n",
    "        W_old = W.copy()\n",
    "        for k in range(W.shape[0]):\n",
    "            W[k] -= e * (1/n * 2 * X[:, k] @ (y_pred - y))\n",
    "        if all(np.isclose(W_old, W, rtol=.0001)):\n",
    "            break\n",
    "    \n",
    "    print(f'When We change eta and count inter:\\n Iteration #{end_iter}: W_new = {W}, MSE = {round(err, 2)}')\n",
    "    print('\\n')"
   ]
  },
  {
   "cell_type": "markdown",
   "id": "f332940c",
   "metadata": {},
   "source": [
    "#### Вывод:\n",
    "Чем меньше eta тем больше итераций нужно сделать для достижания минимальной ошибки.\n"
   ]
  },
  {
   "cell_type": "markdown",
   "id": "96c7e905",
   "metadata": {},
   "source": [
    "### Задание 2*\n",
    "Найти ошибку в коде примера\n"
   ]
  },
  {
   "cell_type": "code",
   "execution_count": 59,
   "id": "5b9fe922",
   "metadata": {},
   "outputs": [
    {
     "name": "stdout",
     "output_type": "stream",
     "text": [
      "Number of objects = 10        \n",
      "Learning rate = 0.01        \n",
      "Initial weights = [1.  0.5] \n",
      "\n",
      "Iteration #0: W_new = [2.08 4.27], MSE = 3047.75\n",
      "Iteration #10: W_new = [ 7.0011236 10.6169007], MSE = 738.65\n",
      "Iteration #20: W_new = [10.3486292  10.10603105], MSE = 622.03\n",
      "Iteration #30: W_new = [13.38789582  9.55618391], MSE = 525.24\n",
      "Iteration #40: W_new = [16.16088505  9.05336203], MSE = 444.66\n",
      "Iteration #50: W_new = [18.69110735  8.59454545], MSE = 377.58\n",
      "Iteration #60: W_new = [20.99981865  8.17589626], MSE = 321.72\n",
      "Iteration #70: W_new = [23.10641138  7.79389815], MSE = 275.22\n",
      "Iteration #80: W_new = [25.02858024  7.44534246], MSE = 236.5\n",
      "Iteration #90: W_new = [26.78247081  7.12730145], MSE = 204.27\n"
     ]
    }
   ],
   "source": [
    "n = X.shape[0]\n",
    "\n",
    "eta = 1e-2 \n",
    "n_iter = 100\n",
    "\n",
    "W = np.array([1, 0.5])\n",
    "print(f'Number of objects = {n} \\\n",
    "       \\nLearning rate = {eta} \\\n",
    "       \\nInitial weights = {W} \\n')\n",
    "\n",
    "for i in range(n_iter):\n",
    "    y_pred = np.dot(X, W)\n",
    "    err = calc_mse(y, y_pred)\n",
    "#     for k in range(W.shape[0]):\n",
    "#         W[k] -= eta * (1/n * 2 * X[:, k] @ (y_pred - y))\n",
    "    # ИЗМЕНЕНИЯ транспанируем матрицу X\n",
    "    W -= eta * (1/n * 2 * np.dot(X.T, y_pred - y))\n",
    "    \n",
    "    if i % 10 == 0:\n",
    "        print(f'Iteration #{i}: W_new = {W}, MSE = {round(err,2)}')"
   ]
  },
  {
   "cell_type": "markdown",
   "id": "d7efcd7d",
   "metadata": {},
   "source": [
    "#### Вывод\n",
    "в строке  W -= eta * (1/n * 2 * np.dot(X, y_pred - y)) массивы имеют разный размер.\n",
    "Чтобы скалярное произведение получилось можно транспорировать матрицу X\n"
   ]
  },
  {
   "cell_type": "markdown",
   "id": "475420cf",
   "metadata": {},
   "source": [
    "### Задание 3*\n",
    "Найти такой способ решения чтобы не задавать число итераций, а чтобы система сама останаливалась когда веса перестают изменяться меньше определенного порога  𝜖 ."
   ]
  },
  {
   "cell_type": "code",
   "execution_count": 121,
   "id": "a7a9d18f",
   "metadata": {},
   "outputs": [
    {
     "name": "stdout",
     "output_type": "stream",
     "text": [
      "Number of objects = 10        \n",
      "Learning rate = 0.01        \n",
      "Initial weights = [1.  0.5] \n",
      "\n",
      "Iteration #216: W_new = [39.17944776  4.87930082], MSE = 60.88\n"
     ]
    }
   ],
   "source": [
    "#Не указывал изменений, так как по сути написал заново \n",
    "\n",
    "n = X.shape[0]\n",
    "e = 0.01\n",
    "eta = 1e-2 \n",
    "i = 0\n",
    "W = np.array([1, 0.5])\n",
    "print(f'Number of objects = {n} \\\n",
    "       \\nLearning rate = {eta} \\\n",
    "       \\nInitial weights = {W} \\n')\n",
    "\n",
    "y_pred = np.dot(X, W)\n",
    "err = calc_mse(y, y_pred)\n",
    "\n",
    "W_new = eta * (1/n * 2 * np.dot(X.T, y_pred - y))\n",
    "\n",
    "\n",
    "while (abs((W[0] - W_new[0])) > e) & (abs((W[1] - W_new[1])) > e):\n",
    "    y_pred = np.dot(X, W)\n",
    "    err = calc_mse(y, y_pred)\n",
    "    W = W_new.copy()\n",
    "    W_new -= eta * (1/n * 2 * np.dot(X.T, y_pred - y))\n",
    "    i += 1\n",
    "\n",
    "print(f'Iteration #{i}: W_new = {W_new}, MSE = {round(err,2)}')"
   ]
  },
  {
   "cell_type": "code",
   "execution_count": null,
   "id": "689f7729",
   "metadata": {},
   "outputs": [],
   "source": []
  }
 ],
 "metadata": {
  "kernelspec": {
   "display_name": "Python 3",
   "language": "python",
   "name": "python3"
  },
  "language_info": {
   "codemirror_mode": {
    "name": "ipython",
    "version": 3
   },
   "file_extension": ".py",
   "mimetype": "text/x-python",
   "name": "python",
   "nbconvert_exporter": "python",
   "pygments_lexer": "ipython3",
   "version": "3.9.6"
  }
 },
 "nbformat": 4,
 "nbformat_minor": 5
}
