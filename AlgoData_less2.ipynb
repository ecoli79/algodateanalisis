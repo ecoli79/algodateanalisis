{
 "cells": [
  {
   "cell_type": "code",
   "execution_count": 145,
   "id": "4922521d",
   "metadata": {},
   "outputs": [],
   "source": [
    "import numpy as np\n",
    "import matplotlib.pyplot as plt\n",
    "from sklearn import datasets"
   ]
  },
  {
   "cell_type": "markdown",
   "id": "a9f7635d",
   "metadata": {},
   "source": [
    "### Задача №1 \n",
    "Постройте график зависимости весов всех признаков от lambda в самописной L2-регуляризации (на данных про ЕГЭ). Сделайте вывод"
   ]
  },
  {
   "cell_type": "code",
   "execution_count": 146,
   "id": "374f2838",
   "metadata": {},
   "outputs": [],
   "source": [
    "X = np.array([[   1,    1,  500,    1],\n",
    "              [   1,    1,  700,    1],\n",
    "              [   1,    2,  750,    2],\n",
    "              [   1,    5,  600,    1],\n",
    "              [   1,    3, 1450,    2],\n",
    "              [   1,    0,  800,    1],\n",
    "              [   1,    5, 1500,    3],\n",
    "              [   1,   10, 2000,    3],\n",
    "              [   1,    1,  450,    1],\n",
    "              [   1,    2, 1000,    2]])"
   ]
  },
  {
   "cell_type": "code",
   "execution_count": 147,
   "id": "043eb3f5",
   "metadata": {},
   "outputs": [],
   "source": [
    "y = [45, 55, 50, 55, 60, 35, 75, 80, 50, 60]"
   ]
  },
  {
   "cell_type": "code",
   "execution_count": 148,
   "id": "a6b51a3e",
   "metadata": {},
   "outputs": [],
   "source": [
    "def standard_scale(X):\n",
    "    mean = X.mean()\n",
    "    std = X.std()\n",
    "    return (X - mean) / std"
   ]
  },
  {
   "cell_type": "code",
   "execution_count": 149,
   "id": "ab958a9e",
   "metadata": {},
   "outputs": [
    {
     "data": {
      "text/plain": [
       "array([[ 1.        , -0.70710678, -0.97958969, -0.89625816],\n",
       "       [ 1.        , -0.70710678, -0.56713087, -0.89625816],\n",
       "       [ 1.        , -0.35355339, -0.46401617,  0.38411064],\n",
       "       [ 1.        ,  0.70710678, -0.77336028, -0.89625816],\n",
       "       [ 1.        ,  0.        ,  0.97958969,  0.38411064],\n",
       "       [ 1.        , -1.06066017, -0.36090146, -0.89625816],\n",
       "       [ 1.        ,  0.70710678,  1.08270439,  1.66447944],\n",
       "       [ 1.        ,  2.47487373,  2.11385144,  1.66447944],\n",
       "       [ 1.        , -0.70710678, -1.08270439, -0.89625816],\n",
       "       [ 1.        , -0.35355339,  0.05155735,  0.38411064]])"
      ]
     },
     "execution_count": 149,
     "metadata": {},
     "output_type": "execute_result"
    }
   ],
   "source": [
    "X_st = X.copy().astype(np.float64)\n",
    "X_st[:, 1] = standard_scale(X_st[:, 1])\n",
    "X_st[:, 2] = standard_scale(X_st[:, 2])\n",
    "X_st[:, 3] = standard_scale(X_st[:, 3])\n",
    "\n",
    "X_st"
   ]
  },
  {
   "cell_type": "code",
   "execution_count": 150,
   "id": "54763f58",
   "metadata": {},
   "outputs": [],
   "source": [
    "def calc_mse(y, y_pred):\n",
    "    err = np.mean((y - y_pred)**2)\n",
    "    return err"
   ]
  },
  {
   "cell_type": "code",
   "execution_count": 151,
   "id": "ca25e947",
   "metadata": {},
   "outputs": [
    {
     "data": {
      "text/plain": [
       "array([ 0.31875656,  0.05407112,  0.49341864, -0.79022467])"
      ]
     },
     "execution_count": 151,
     "metadata": {},
     "output_type": "execute_result"
    }
   ],
   "source": [
    "W = np.random.randn(X.shape[1])\n",
    "W"
   ]
  },
  {
   "cell_type": "code",
   "execution_count": 152,
   "id": "b7fae5a5",
   "metadata": {},
   "outputs": [],
   "source": [
    "def gradient_descent_reg_l2(X, y, iterations, eta=1e-4, reg=1e-8):\n",
    "    W = np.random.randn(X.shape[1])\n",
    "    n = X.shape[0]\n",
    "    \n",
    "    for i in range(0, iterations):\n",
    "        y_pred = np.dot(X, W)\n",
    "        err = calc_mse(y, y_pred)\n",
    "        \n",
    "        dQ = 2/n * X.T @ (y_pred - y) # градиент функции ошибки\n",
    "        dReg = reg * W # градиент регуляризации\n",
    "        \n",
    "        W -= eta * (dQ + dReg)\n",
    "        \n",
    "        #if i % (iterations / 10) == 0:\n",
    "        #    print(f'Iter: {i}, weights: {W}, error {err}')\n",
    "    \n",
    "    #print(f'Final MSE: {calc_mse(y, np.dot(X, W))}')\n",
    "    return W"
   ]
  },
  {
   "cell_type": "code",
   "execution_count": 153,
   "id": "06c247fb",
   "metadata": {},
   "outputs": [
    {
     "data": {
      "image/png": "[encoded data removed]",
      "text/plain": [
       "<Figure size 432x288 with 1 Axes>"
      ]
     },
     "metadata": {
      "needs_background": "light"
     },
     "output_type": "display_data"
    },
    {
     "data": {
      "image/png": "[encoded data removed]",
      "text/plain": [
       "<Figure size 432x288 with 1 Axes>"
      ]
     },
     "metadata": {
      "needs_background": "light"
     },
     "output_type": "display_data"
    },
    {
     "data": {
      "image/png": "[encoded data removed]",
      "text/plain": [
       "<Figure size 432x288 with 1 Axes>"
      ]
     },
     "metadata": {
      "needs_background": "light"
     },
     "output_type": "display_data"
    },
    {
     "data": {
      "image/png": "[encoded data removed]",
      "text/plain": [
       "<Figure size 432x288 with 1 Axes>"
      ]
     },
     "metadata": {
      "needs_background": "light"
     },
     "output_type": "display_data"
    }
   ],
   "source": [
    "w1_for_plot = []\n",
    "w2_for_plot = []\n",
    "w3_for_plot = []\n",
    "w4_for_plot = []\n",
    "reg_for_plot = []\n",
    "\n",
    "for i in np.arange(0, 0.9, 0.04):\n",
    "    w_for_plot = (gradient_descent_reg_l2(X_st, y, iterations=5000, eta=1e-2, reg=i))\n",
    "    w1_for_plot.append(w_for_plot[0])\n",
    "    w2_for_plot.append(w_for_plot[1])\n",
    "    w3_for_plot.append(w_for_plot[2])\n",
    "    w4_for_plot.append(w_for_plot[3])\n",
    "    \n",
    "    reg_for_plot.append(i)\n",
    "\n",
    "\n",
    "plt.gca().update(dict(xlabel='labmda coef regulation', ylabel='Weight'))\n",
    "plt.scatter(reg_for_plot, w1_for_plot)\n",
    "plt.show()\n",
    "plt.scatter(reg_for_plot, w2_for_plot)\n",
    "plt.show()\n",
    "plt.scatter(reg_for_plot, w3_for_plot)\n",
    "plt.show()\n",
    "plt.scatter(reg_for_plot, w4_for_plot)\n",
    "plt.show()\n"
   ]
  },
  {
   "cell_type": "markdown",
   "id": "392282ce",
   "metadata": {},
   "source": [
    "#### Вывод:\n",
    "При увеличении коеффициента регуляции мы \"штрафуем\" модель за большие веса и тем самым она снижает их.\n"
   ]
  },
  {
   "cell_type": "markdown",
   "id": "7c6cd205",
   "metadata": {},
   "source": [
    "### Задача 2\n",
    "Напишите функцию наподобие gradient_descent_reg_l2, но для применения L1-регуляризации."
   ]
  },
  {
   "cell_type": "code",
   "execution_count": 154,
   "id": "f9b32cef",
   "metadata": {},
   "outputs": [],
   "source": [
    "def calc_mae(y, y_pred):\n",
    "    err = np.mean(np.abs(y - y_pred))\n",
    "    return err"
   ]
  },
  {
   "cell_type": "code",
   "execution_count": 155,
   "id": "142c026d",
   "metadata": {},
   "outputs": [],
   "source": [
    "#Поменяем расчет ошибки с квадрата на модуль\n",
    "def gradient_descent_reg_l1(X, y, iterations, eta=1e-4, reg=1e-8):\n",
    "    W = np.random.randn(X.shape[1])\n",
    "    n = X.shape[0]\n",
    "    \n",
    "    for i in range(0, iterations):\n",
    "        y_pred = np.dot(X, W)\n",
    "        err = calc_mae(y, y_pred)\n",
    "        \n",
    "        dQ = 2/n * X.T @ (y_pred - y) # градиент функции ошибки\n",
    "        dReg = reg * W # градиент регуляризации\n",
    "        \n",
    "        W -= eta * (dQ + dReg)\n",
    "        \n",
    "        if i % (iterations / 10) == 0:\n",
    "            print(f'Iter: {i}, weights: {W}, error {err}')\n",
    "    \n",
    "    print(f'Final MAE: {calc_mae(y, np.dot(X, W))}')\n",
    "    return W"
   ]
  },
  {
   "cell_type": "code",
   "execution_count": 156,
   "id": "8a515c9f",
   "metadata": {},
   "outputs": [
    {
     "name": "stdout",
     "output_type": "stream",
     "text": [
      "Iter: 0, weights: [ 1.84760425  0.364321   -0.03661507 -0.75275605], error 55.767002812670924\n",
      "Iter: 500, weights: [53.80824434  5.57020977  1.65660785  4.98067109], error 4.856077610454865\n",
      "Iter: 1000, weights: [53.80952378  5.69982115  1.12908601  5.39670344], error 4.863061738630388\n",
      "Iter: 1500, weights: [53.80952381  5.72401058  1.01534509  5.48998492], error 4.865437304075487\n",
      "Iter: 2000, weights: [53.80952381  5.72915886  0.99058485  5.51040332], error 4.865976362521424\n",
      "Iter: 2500, weights: [53.80952381  5.73027748  0.98518741  5.51485776], error 4.866094550004834\n",
      "Iter: 3000, weights: [53.80952381  5.73052126  0.9840106   5.51582907], error 4.866120339506573\n",
      "Iter: 3500, weights: [53.80952381  5.73057441  0.98375401  5.51604085], error 4.866125963212639\n",
      "Iter: 4000, weights: [53.80952381  5.730586    0.98369807  5.51608703], error 4.8661271894114675\n",
      "Iter: 4500, weights: [53.80952381  5.73058853  0.98368587  5.5160971 ], error 4.866127456769542\n",
      "Final MAE: 4.866127515063683\n"
     ]
    },
    {
     "data": {
      "text/plain": [
       "array([53.80952381,  5.73058908,  0.98368321,  5.51609929])"
      ]
     },
     "execution_count": 156,
     "metadata": {},
     "output_type": "execute_result"
    }
   ],
   "source": [
    "gradient_descent_reg_l1(X_st, y, iterations=5000, eta=1e-2, reg=1e-1)"
   ]
  },
  {
   "cell_type": "markdown",
   "id": "723e2b80",
   "metadata": {},
   "source": [
    "### Задача 3*\n",
    "Можно ли к одному и тому же признаку применить сразу и нормализацию, и стандартизацию?\n",
    "Проверим это экспериментально."
   ]
  },
  {
   "cell_type": "code",
   "execution_count": 157,
   "id": "a9651547",
   "metadata": {},
   "outputs": [
    {
     "data": {
      "text/plain": [
       "array([[   1,    1,  500,    1],\n",
       "       [   1,    1,  700,    1],\n",
       "       [   1,    2,  750,    2],\n",
       "       [   1,    5,  600,    1],\n",
       "       [   1,    3, 1450,    2],\n",
       "       [   1,    0,  800,    1],\n",
       "       [   1,    5, 1500,    3],\n",
       "       [   1,   10, 2000,    3],\n",
       "       [   1,    1,  450,    1],\n",
       "       [   1,    2, 1000,    2]])"
      ]
     },
     "execution_count": 157,
     "metadata": {},
     "output_type": "execute_result"
    }
   ],
   "source": [
    "# Набор данных из предыдущих задач \n",
    "X"
   ]
  },
  {
   "cell_type": "code",
   "execution_count": 158,
   "id": "17bef918",
   "metadata": {},
   "outputs": [],
   "source": [
    "# Функция для нормализации данных\n",
    "def min_max_scale(X):\n",
    "    return (X - X.min()) / (X.max() - X.min())\n",
    "# Функция для стандартизации данных\n",
    "def standard_scale(X):\n",
    "    mean = X.mean()\n",
    "    std = X.std()\n",
    "    return (X - mean) / std"
   ]
  },
  {
   "cell_type": "code",
   "execution_count": 159,
   "id": "341c6e1a",
   "metadata": {},
   "outputs": [
    {
     "data": {
      "text/plain": [
       "array([[1.00e+00, 1.00e+00, 5.00e+02, 1.00e+00],\n",
       "       [1.00e+00, 1.00e+00, 7.00e+02, 1.00e+00],\n",
       "       [1.00e+00, 2.00e+00, 7.50e+02, 2.00e+00],\n",
       "       [1.00e+00, 5.00e+00, 6.00e+02, 1.00e+00],\n",
       "       [1.00e+00, 3.00e+00, 1.45e+03, 2.00e+00],\n",
       "       [1.00e+00, 0.00e+00, 8.00e+02, 1.00e+00],\n",
       "       [1.00e+00, 5.00e+00, 1.50e+03, 3.00e+00],\n",
       "       [1.00e+00, 1.00e+01, 2.00e+03, 3.00e+00],\n",
       "       [1.00e+00, 1.00e+00, 4.50e+02, 1.00e+00],\n",
       "       [1.00e+00, 2.00e+00, 1.00e+03, 2.00e+00]])"
      ]
     },
     "execution_count": 159,
     "metadata": {},
     "output_type": "execute_result"
    }
   ],
   "source": [
    "X_norm = X.copy()\n",
    "X_norm = X_norm.astype(np.float64) # если не сделать этого, мы сможем потерять данные в результате нормализации\n",
    "X_norm"
   ]
  },
  {
   "cell_type": "code",
   "execution_count": 160,
   "id": "52d8c0db",
   "metadata": {},
   "outputs": [
    {
     "data": {
      "text/plain": [
       "array([[1.        , 0.1       , 0.03225806, 0.        ],\n",
       "       [1.        , 0.1       , 0.16129032, 0.        ],\n",
       "       [1.        , 0.2       , 0.19354839, 0.5       ],\n",
       "       [1.        , 0.5       , 0.09677419, 0.        ],\n",
       "       [1.        , 0.3       , 0.64516129, 0.5       ],\n",
       "       [1.        , 0.        , 0.22580645, 0.        ],\n",
       "       [1.        , 0.5       , 0.67741935, 1.        ],\n",
       "       [1.        , 1.        , 1.        , 1.        ],\n",
       "       [1.        , 0.1       , 0.        , 0.        ],\n",
       "       [1.        , 0.2       , 0.35483871, 0.5       ]])"
      ]
     },
     "execution_count": 160,
     "metadata": {},
     "output_type": "execute_result"
    }
   ],
   "source": [
    "X_norm[:, 1] = min_max_scale(X_norm[:, 1])\n",
    "X_norm[:, 2] = min_max_scale(X_norm[:, 2])\n",
    "X_norm[:, 3] = min_max_scale(X_norm[:, 3])\n",
    "X_norm"
   ]
  },
  {
   "cell_type": "code",
   "execution_count": 161,
   "id": "3aab0e51",
   "metadata": {},
   "outputs": [
    {
     "data": {
      "text/plain": [
       "array([[ 1,  0,  0,  0],\n",
       "       [ 1,  0,  0,  0],\n",
       "       [ 1,  0,  0,  0],\n",
       "       [ 1,  0,  0,  0],\n",
       "       [ 1,  0,  0,  0],\n",
       "       [ 1, -1,  0,  0],\n",
       "       [ 1,  0,  1,  1],\n",
       "       [ 1,  2,  2,  1],\n",
       "       [ 1,  0, -1,  0],\n",
       "       [ 1,  0,  0,  0]])"
      ]
     },
     "execution_count": 161,
     "metadata": {},
     "output_type": "execute_result"
    }
   ],
   "source": [
    "X_st = X.copy()\n",
    "X_st[:, 1] = standard_scale(X_st[:, 1])\n",
    "X_st[:, 2] = standard_scale(X_st[:, 2])\n",
    "X_st[:, 3] = standard_scale(X_st[:, 3])\n",
    "\n",
    "X_st"
   ]
  },
  {
   "cell_type": "markdown",
   "id": "b19c8fa8",
   "metadata": {},
   "source": [
    "#### Вывод:\n",
    "##### Нормализация \n",
    "преобразование данных в интервалы данных от 0 до 1\n",
    "\n",
    "##### Стандартизация \n",
    "преобозование данных в \"логические единицы\" иными словами можно сказать что мы получаем вес данного признака, а не его значнеие.\n",
    "\n",
    "Сделать одновременно и Нормализацию и Стандартизацию нельзя, так как после нормализации или стандартизации признаков они изчезают и заменяются на новые значения."
   ]
  },
  {
   "cell_type": "markdown",
   "id": "e2d34775",
   "metadata": {},
   "source": [
    "### Задача 4* \n",
    "Сгенерируйте датасет при помощи sklearn.datasets.make_regression и обучите линейную модель при помощи градиентного и стохастического градиентного спуска. Нанесите среднеквадратичную ошибку для обоих методов на один график, сделайте выводы о разнице скорости сходимости каждого из методов."
   ]
  },
  {
   "cell_type": "code",
   "execution_count": 268,
   "id": "02c8d1f9",
   "metadata": {},
   "outputs": [
    {
     "data": {
      "text/plain": [
       "array([[  3.78794466,  -0.61837549],\n",
       "       [ -6.52931145,  -1.06706712],\n",
       "       [-10.6581629 ,  -0.34682333],\n",
       "       ...,\n",
       "       [ 11.94510163,   1.00147133],\n",
       "       [  1.25623099,   0.35261274],\n",
       "       [ -0.5674652 ,   0.41214611]])"
      ]
     },
     "metadata": {},
     "output_type": "display_data"
    },
    {
     "data": {
      "text/plain": [
       "array([-2.61123036e+01, -1.22254125e+02, -9.33701155e+01,  2.23698676e+01,\n",
       "       -1.19353069e+00,  7.55093913e+01,  4.17391914e+00,  3.37850492e+01,\n",
       "       -4.13327830e+01, -1.71060319e+00,  6.91533479e+01, -3.84944494e+01,\n",
       "       -1.40841311e+01, -7.87094871e+00,  2.24655412e+01,  3.52449558e+01,\n",
       "        3.54202311e+01,  4.54019343e+01,  3.93612257e+01,  1.13645719e-01,\n",
       "       -1.23294801e+01,  1.18940297e+02,  2.90747757e+02,  1.07353713e+01,\n",
       "        1.33621709e+02, -8.58105655e+01, -1.19323461e+01,  5.66776267e+01,\n",
       "        1.45867826e+02, -2.72626165e+02, -3.86689973e+00,  4.64700598e+01,\n",
       "        1.34844522e+02,  1.01167107e+01,  1.02407708e+01,  1.50555004e+01,\n",
       "        6.05940840e+01, -1.46615087e-01, -1.04571676e+02, -1.09697817e+02,\n",
       "        1.21274981e+01,  9.99648515e+01,  8.47610760e+01, -1.05265489e+02,\n",
       "        1.35034101e+02, -3.24978496e+02,  6.56243085e+01, -4.80030943e+01,\n",
       "        8.43343786e+01,  3.38914896e+00,  2.65015621e+01,  6.26227854e+01,\n",
       "       -1.45046490e+02,  5.99890287e+01, -4.29487922e+01, -6.21770636e+01,\n",
       "       -7.43718851e+01,  1.41640904e+01,  7.62513523e+01, -9.31185763e+01,\n",
       "       -4.63520375e+01,  4.29125963e+01, -9.66584329e+00,  8.93121009e+01,\n",
       "       -4.03193579e+01, -1.01379573e+02,  1.01841520e+02, -5.15662519e+01,\n",
       "       -4.52628857e+01, -1.87124862e+01, -9.12844792e+01,  3.59927570e+01,\n",
       "        6.17592461e+01,  2.22494640e+02,  1.32434204e+02, -3.60881053e+01,\n",
       "        6.22684440e+01,  1.17243754e+02, -7.81544631e+01, -1.15367499e+02,\n",
       "        2.07386737e+02, -1.05860234e+02,  1.85276901e+01, -1.28578014e+02,\n",
       "        3.16618174e+01,  4.66424452e+01, -1.25927975e+02,  3.92521273e+01,\n",
       "       -6.16557147e+01, -7.16591893e+01, -5.25599518e+01,  8.57629576e+01,\n",
       "        1.21017018e+02, -4.52865631e+01,  1.01235726e+02, -5.85374634e+01,\n",
       "        1.54127676e+02,  7.97155843e+01, -1.80370851e+02,  1.90235368e+01,\n",
       "        1.25097722e+00,  8.85002223e+01, -1.51621734e+02,  1.41323799e+02,\n",
       "        4.18851676e+01,  5.20369920e+01, -4.25228301e+01,  1.09583957e+02,\n",
       "       -7.91647431e+01, -4.74113606e+00, -2.52046023e+02, -2.69093444e+01,\n",
       "        5.19952741e+01, -8.64234670e+01, -5.25334656e-01, -6.78597223e+01,\n",
       "        1.17300246e+01,  6.97830260e+01, -5.55128430e+01, -1.49814920e+02,\n",
       "       -3.20406862e+01, -6.54315386e+01, -9.20757249e+00,  1.62937115e+02,\n",
       "       -6.42369455e+01,  2.13940023e+02, -1.90901395e+02, -9.77602152e+01,\n",
       "       -4.43268555e+01,  1.47342417e+01, -8.54881576e+01,  7.22014476e+00,\n",
       "        1.36013024e+02,  5.02397565e+01,  4.87812888e+01,  1.36143655e+01,\n",
       "        6.87647966e+01,  3.61672551e+01, -7.59032358e+01, -2.00121857e+02,\n",
       "        1.16208277e+01,  4.31042606e+01,  3.16115880e+01, -4.75901362e+01,\n",
       "       -1.29087233e+02, -5.53559217e+01,  1.50745846e+01,  1.70758154e+01,\n",
       "       -1.53630565e+02,  1.71958382e+01, -1.83512595e+02,  2.43362655e+01,\n",
       "       -4.50652116e+01, -2.92099620e+00,  1.23015030e+02, -1.11788567e+02,\n",
       "        8.50991008e+01, -1.46376768e+02,  3.27701445e+01, -2.93018471e+01,\n",
       "        4.69203461e+01,  1.08423413e+02, -6.13209350e+01,  4.94785289e+01,\n",
       "       -1.41109577e+02,  4.33054311e+01, -1.52549152e+02, -2.46530040e+01,\n",
       "       -1.00874101e+02,  3.38889732e+01, -1.23153355e+02,  2.17420651e+02,\n",
       "        5.46966513e+01,  4.06833605e+01,  1.16655415e+02,  1.47106932e+02,\n",
       "        2.81929267e+01, -1.11048654e+02,  7.80397611e+01, -3.49932950e+00,\n",
       "        9.91980807e+00,  7.16777443e+00,  9.55759488e+01,  1.06216158e+02,\n",
       "        1.54782642e+02, -2.26334446e+01, -7.82932490e+01,  1.73939404e+02,\n",
       "        1.75698853e+02, -4.76494719e+01, -1.27657625e+02, -5.11138947e+01,\n",
       "       -9.78206844e+00, -1.29280315e+02, -1.22503741e+02,  7.65780719e+01,\n",
       "       -2.11869965e+02,  3.06571220e+01, -7.66394137e+01, -1.24552588e+02,\n",
       "       -3.56285913e+01,  6.00062639e+01, -1.11473800e+02, -2.70266744e+00,\n",
       "       -6.21499474e+01,  1.28866824e+02,  3.57562503e+01, -1.63234454e+02,\n",
       "        1.83023392e+01, -1.37009065e+02, -4.88380133e+01, -1.61400354e+02,\n",
       "        2.58238176e+01, -1.71481525e+02,  7.17168100e+01, -1.51549918e+02,\n",
       "       -7.31412133e+01, -8.62281492e+01, -1.66868840e+01,  1.40935437e+02,\n",
       "        5.57925015e+01, -1.56402975e+02, -1.22790672e+02, -1.40778628e+02,\n",
       "       -7.18758210e+01, -6.87462711e+01, -1.38957317e+01, -1.73461298e+02,\n",
       "       -3.76770515e+01,  7.76924609e+01,  1.74823500e+02,  1.53499233e+02,\n",
       "       -3.31312744e+01,  7.71680849e+01, -8.79504754e+01, -3.24639116e+01,\n",
       "       -5.35527646e+01,  1.95842854e+02,  3.35714470e+00,  5.11947797e+01,\n",
       "        3.12736009e+01,  8.11437215e+01, -8.29488116e+01,  5.30395852e+01,\n",
       "       -2.77664212e+01, -4.38009254e+01,  3.43211816e+01,  7.56218288e+00,\n",
       "       -2.83344315e+01,  3.81263689e+01,  6.90682668e+01, -7.27304368e+01,\n",
       "       -1.94558174e+01, -7.94634380e+01,  2.19422785e+02, -6.32058902e+01,\n",
       "       -1.00445761e+02, -4.70053506e+01, -1.95597242e+01, -1.02558330e+02,\n",
       "       -1.00434144e+02,  1.39166519e+02, -1.37781213e+02,  2.10456615e+01,\n",
       "        1.53807527e+02,  4.82381452e+01,  9.19882759e+01,  8.86443171e+01,\n",
       "        3.36746742e+01, -7.15218367e+01, -6.79874189e+01,  3.58485159e+01,\n",
       "        1.14037947e+02,  5.88694911e+01,  2.89656802e+01, -1.92212573e+01,\n",
       "       -2.15755242e+02,  6.32586245e+01, -1.09385437e+02,  1.11195633e+02,\n",
       "        6.83161018e+01, -7.22547529e+01, -4.94899902e+01,  5.12699554e+01,\n",
       "       -5.64041836e+01, -3.49849293e+01,  7.51632837e+01, -1.06282835e+02,\n",
       "       -1.52944899e+02,  1.43720730e+02,  7.40856903e+01,  6.23607516e+01,\n",
       "        7.95378817e+00, -1.33696648e+02,  3.44960554e+01, -1.28476614e+01,\n",
       "        4.92297625e+01, -5.49095870e+01, -5.22363136e+01, -3.17464973e+01,\n",
       "        6.76710400e+01, -7.09109912e+00, -5.21825216e+01,  1.66279830e+02,\n",
       "       -7.70948273e+01, -5.28934618e+01,  1.14456807e+02,  5.97281267e+01,\n",
       "       -3.74767202e+01, -1.87988738e+01, -9.62567938e+01,  6.12507614e+01,\n",
       "        1.08598319e+02, -6.90957649e+01, -1.26634856e+02, -1.60658799e+01,\n",
       "        8.04013711e+01, -9.39713230e+01, -5.24077123e+01, -8.66848307e+01,\n",
       "        1.26797195e+02, -1.94170159e+01, -6.16451342e+01, -1.00573544e+02,\n",
       "        5.53269236e+01, -1.13977889e+02, -1.20668952e+02, -4.10033533e+01,\n",
       "        1.93359236e+01, -8.33637331e+01, -1.12059533e+02, -8.25593895e+01,\n",
       "        1.62928017e+02,  6.52366217e+01, -2.27313972e+02,  2.36210943e+01,\n",
       "        6.37784088e+01, -7.88244509e+01, -7.56402104e+00,  6.13010734e-01,\n",
       "       -3.63529545e+00, -1.38541709e+02,  2.78577077e+01,  3.63657284e+01,\n",
       "        8.48711063e+01,  2.12988667e+01, -5.46537760e+01,  8.33274018e+01,\n",
       "       -1.72486438e+02, -7.93426033e+00, -7.44169633e+01, -2.87813091e+01,\n",
       "       -6.44510912e+00,  2.12273173e+00,  2.32935544e+00,  1.05194084e+02,\n",
       "       -3.79526683e+01, -5.73991156e+01,  1.55465577e+02,  1.23034646e+02,\n",
       "        2.42548332e+02,  5.68040766e+01, -2.41939948e+01,  4.34050342e+01,\n",
       "        1.11492793e+01,  1.54727891e+01, -1.01363158e+00, -2.67481387e+01,\n",
       "       -5.04025385e+01,  6.59664755e+01,  6.27144274e+01, -1.42624267e+02,\n",
       "       -6.02778342e+01, -4.19319983e+01,  6.46795774e+01,  1.92643420e+02,\n",
       "       -2.63345961e+00, -1.04025968e+02, -2.61025984e+02, -8.84772284e+01,\n",
       "       -4.06520575e+01,  3.51804487e+01,  9.02302386e+01, -4.63205226e+01,\n",
       "       -1.49723268e+02, -1.12700513e+01,  1.86843230e+02, -4.81354243e+01,\n",
       "        7.64046251e+01,  2.99280359e+01,  1.83673284e+02, -8.13474507e+01,\n",
       "        1.29158499e+02, -6.26700113e+01, -5.83251685e+01,  6.10773820e+01,\n",
       "        9.80870954e+01,  7.44815241e+01,  4.96719229e+01, -1.17832066e+02,\n",
       "        3.90462664e+00, -5.74875075e+01,  4.06001471e+01, -7.37328152e+01,\n",
       "       -7.65652066e+01, -1.12682658e+02, -1.15889636e+02, -5.19324723e+00,\n",
       "       -3.26278695e+01,  1.56670157e+02, -9.27239033e+01,  6.48705982e+01,\n",
       "        9.08028109e+01, -9.25654826e+01, -5.49474455e+00, -4.02669576e+01,\n",
       "        3.89694142e+01,  1.36969898e+02, -6.69190386e+00,  5.08774271e+01,\n",
       "        3.84477226e+01, -1.02813510e+02, -7.63088142e+01, -4.96375227e+01,\n",
       "       -4.58536539e+01, -8.24288235e+01, -1.84770921e+01,  1.40477893e+02,\n",
       "       -5.48175417e+01, -4.53224368e+01, -5.89806353e+01,  8.80530593e+01,\n",
       "       -1.90458992e+01, -1.32411946e+02, -1.05296446e+02, -6.82443627e+01,\n",
       "       -2.85878896e+01,  2.15019745e+01,  4.67381430e+01, -4.92576372e+01,\n",
       "        8.91436842e-01,  3.99966838e+01, -2.65801742e+01, -1.23298038e+00,\n",
       "       -1.09860555e+02,  1.02412102e+02, -6.06778497e+00, -2.69204167e+01,\n",
       "       -4.02738665e+01, -6.48855000e+01,  2.80686898e+00, -6.85078799e+00,\n",
       "       -2.30915158e+01, -1.18681501e+02, -9.12061469e+00,  9.95855229e+01,\n",
       "       -1.91517916e+00,  2.87512689e+01,  5.55112011e+01, -1.63092949e+02,\n",
       "        4.23447136e+01,  2.91609944e+01,  2.27493044e+01,  9.71245322e+00,\n",
       "        1.61972545e+02,  1.52836241e+00,  8.25630465e+01,  4.64672169e+01,\n",
       "        4.16521527e+01, -2.31917083e+01, -6.71330835e+01, -1.04022173e+02,\n",
       "        3.56184505e+01,  1.13054720e+02,  7.83825316e+01,  3.56327369e+01,\n",
       "        1.09017662e+02, -1.85866482e+02,  2.57415087e+01, -1.92316194e+01,\n",
       "        7.81907520e+01, -4.31135625e+01, -2.53988344e+01,  9.76907903e+00,\n",
       "       -3.40706744e+01,  4.60493706e+01,  3.80989283e+00,  6.53747320e+01,\n",
       "        1.30690616e+02,  8.99745496e+01,  9.48065031e+01,  1.22084011e+02,\n",
       "        7.70105030e+01, -5.96343771e+00, -2.67821506e+01, -1.13365906e+02,\n",
       "        8.19719920e+01, -2.51323591e+00,  1.46039496e+01, -1.83789133e+02,\n",
       "       -7.27587598e+00, -1.34819039e+02,  2.24356844e+01,  1.85321761e+02,\n",
       "       -1.92308995e+01, -1.50702825e+02, -1.81094398e+01,  6.89114159e+01,\n",
       "        5.28371429e+01, -1.84633713e+02, -1.80976146e+02, -2.72958441e+02,\n",
       "        9.62702660e+01, -8.61528395e+01,  7.21042455e+01,  2.14472824e+01,\n",
       "       -1.05530026e+02,  1.46996963e+02, -1.00939676e+02,  4.17269853e+01,\n",
       "        3.07478414e+01, -2.41927805e+01, -1.37861537e+02, -8.10733697e+01,\n",
       "        1.06905678e+02,  1.28308981e+02,  9.71088589e+01,  4.55386216e+01,\n",
       "       -9.75507186e+01, -6.08454431e+01, -1.01267091e+02, -1.28771111e+00,\n",
       "       -1.08417396e+02, -4.09575296e+01, -1.56523326e+01,  2.01747245e+01,\n",
       "        2.75025354e+00, -4.98558831e+01, -9.64707547e+01,  4.54118775e+01,\n",
       "       -1.80915958e+02, -2.95452341e+01, -1.17335320e+02,  8.05968121e+01,\n",
       "       -1.29305292e+02, -3.08560293e+01, -3.66369694e+00, -1.11341242e+02,\n",
       "       -1.70091373e+02,  9.63095544e+01, -1.19723753e+02,  5.84204325e+01,\n",
       "        2.06164044e+02,  6.02379688e+01,  1.13848480e+02,  2.04353725e+02,\n",
       "        1.44917062e+01, -2.09960733e+02,  1.73973099e+02, -2.76843277e+02,\n",
       "       -2.27585533e+01, -5.46402197e+01,  2.57704448e+01, -5.59080635e+01,\n",
       "       -3.22248993e+01, -5.70258222e+01,  4.10118287e+01, -8.42111657e+01,\n",
       "        2.09966041e+01,  3.45912825e+01,  1.56347054e+02,  4.89908971e+01,\n",
       "        2.37730886e+01,  1.08046973e+01, -3.05467954e+00, -9.99292395e+00,\n",
       "       -3.94930174e+01,  7.84728920e+01, -3.31914349e+01, -2.94868082e+01,\n",
       "        1.77195746e+01,  7.30332614e+01,  5.96119926e+01, -3.25941791e+01,\n",
       "       -6.28172774e+01,  4.68939774e+01,  2.82576918e+01, -8.72310353e+01,\n",
       "       -2.24536044e+01, -8.39966096e+01, -1.45305848e+02, -2.93171553e+01,\n",
       "        4.44471993e+01,  9.21433778e+01,  1.65492725e+02, -7.24197452e+00,\n",
       "        1.11662978e+02, -2.47056670e+01,  7.85140285e+01, -2.45115818e+01,\n",
       "       -3.50003769e+01, -1.67560620e+02, -6.01022968e+01, -6.89553001e+01,\n",
       "       -9.58310676e+01, -1.61452063e+02,  1.74516456e+01, -6.81417620e+01,\n",
       "       -1.59227201e+02, -1.20056233e+02,  3.48082809e+01,  7.61802721e+01,\n",
       "        1.39045433e+02,  1.39303202e+01, -1.25159768e+01, -2.64270660e+01,\n",
       "       -1.30699556e+02, -7.87190930e+01, -1.36870431e+02, -2.17472738e+02,\n",
       "        4.57024529e+01,  3.24526980e+02, -8.37659787e+01, -6.84992042e+01,\n",
       "       -1.40089478e+01, -1.39983298e+02,  2.60815924e+01,  1.24692950e+02,\n",
       "        7.82475840e-03, -4.21902475e+00,  1.54693241e+02,  8.80049325e+00,\n",
       "        6.84869726e+01, -7.59692524e+01,  7.19975868e+01,  1.21603840e+01,\n",
       "        4.71133936e+01, -9.93432937e+01, -1.50210045e+01,  3.60662742e+00,\n",
       "        7.67179236e+01, -2.34718917e+01,  6.82308573e+01,  3.90479528e+01,\n",
       "        3.26275481e+01,  7.95306332e+01, -1.88713973e+02, -1.41118225e+02,\n",
       "        7.43866902e+01,  2.47117445e+01, -7.31088627e+01,  2.51968576e+01,\n",
       "       -1.60133832e+01,  2.13168023e+01, -4.81133647e+01,  5.14572662e+01,\n",
       "        3.09521996e+01,  1.07192307e+02, -3.29771725e+01,  4.91915390e+01,\n",
       "       -5.75043725e+01,  1.20494155e+02,  2.34376369e+01, -7.73573602e+01,\n",
       "        1.53806197e+01, -4.38674422e+01,  1.76277202e+02, -1.18820944e+02,\n",
       "        9.97742392e+01, -1.42088729e+01,  5.79291316e+01, -2.19734207e+01,\n",
       "        6.10640950e+01,  4.52498780e+01, -4.93854104e+01,  2.55869401e+01,\n",
       "        5.91158176e+01,  1.06956141e+02, -1.15347764e+01, -3.32444405e+01,\n",
       "       -7.15386416e+01,  1.06008226e+02,  1.15013634e+02,  4.98591810e+01,\n",
       "        8.23456995e+01, -6.43468518e+01, -2.11996546e+01, -2.28156375e+02,\n",
       "        2.33986883e+00,  1.82211930e+02,  5.52515850e+01, -5.48297280e+01,\n",
       "        1.12261878e+02,  1.63316483e+01, -1.45361926e+01, -1.91766396e+01,\n",
       "        8.16038091e+01, -3.03565020e+01, -8.00470891e+01, -1.42628005e+01,\n",
       "        5.49137140e+01,  1.12668475e+02,  2.78637371e+01, -1.13385977e+01,\n",
       "        4.81088347e+01, -1.53474263e+02, -5.94558325e+00, -1.25315575e+02,\n",
       "        7.79037189e+01, -8.10073501e+01, -1.35761824e+02, -1.58034260e+00,\n",
       "       -8.40332429e+01, -1.05785588e+02,  4.10050710e+01, -3.17567355e+01,\n",
       "       -1.65131736e+01,  1.56151735e+01, -2.23172923e+02, -6.17383250e+01,\n",
       "       -6.95182192e+01, -2.55111977e-01, -8.82378558e+01,  3.74901698e+01,\n",
       "        6.28117323e+01,  3.47008424e+01,  4.73753129e+01,  1.82531234e+01,\n",
       "        1.71572431e+01,  3.55781369e+01,  2.84106472e+01, -1.07120358e+02,\n",
       "        6.04741330e+01, -6.86185529e+01,  6.82751195e+01, -4.80875350e+01,\n",
       "       -9.34451943e+01,  1.17154945e+02,  7.03167464e+00, -2.30785149e+01,\n",
       "        1.70806902e+02,  2.48159075e+01, -3.20748471e+00, -2.67416518e+01,\n",
       "       -2.91923613e+00,  9.40769951e+01, -4.73057721e+01,  4.07490829e+01,\n",
       "        8.88481492e+01, -2.80892126e+02, -2.86502213e+01, -1.09919859e+02,\n",
       "       -8.60462018e+00, -1.56602879e+01, -3.85155763e+01,  6.71463126e+01,\n",
       "       -1.20396366e+02,  2.32898019e+01,  1.35862207e+01,  8.60574083e+01,\n",
       "        8.94863622e+01, -1.97431038e+00, -1.42231415e+01, -4.30123801e+01,\n",
       "       -1.46185051e+02,  9.96759147e+00, -1.81599126e+02, -8.53484399e+01,\n",
       "       -8.49881136e+01,  6.40943130e+01,  1.42241510e+02, -3.54311882e+01,\n",
       "       -8.05682643e+01, -2.90908989e+01, -6.85825067e+00,  2.88212293e+01,\n",
       "        8.05242880e+01,  1.53762806e+02, -3.37428562e+01,  7.18084308e+01,\n",
       "        1.02889777e+02, -1.19661145e+02, -1.72326875e+02,  2.44089266e+02,\n",
       "       -9.07477888e+01, -2.83284648e+01, -1.18353030e+02, -4.90705931e+01,\n",
       "       -1.81161417e+02,  4.54374600e+01, -5.59787188e+01, -7.56809236e+00,\n",
       "       -7.51981237e+00,  1.83846084e+01,  2.75413743e+01, -8.85995196e+01,\n",
       "        1.06700052e+02,  1.39160244e+02, -9.95982962e+01, -1.74547253e+01,\n",
       "       -1.57375916e+02, -2.76479817e+01,  3.45898727e+01, -8.73988727e+01,\n",
       "        7.65474634e+01,  1.33104348e+02,  7.91587561e+01, -1.31761099e+02,\n",
       "       -5.76272792e+01, -2.31563755e+01, -3.88065649e+00, -3.46905532e+01,\n",
       "        1.96245506e+02,  2.69770128e+01, -3.15126904e-01, -3.87322774e+01,\n",
       "       -4.78237487e+01, -2.59544561e+01, -4.70596657e+01, -2.99216034e+01,\n",
       "       -8.54653900e+01, -8.12857148e+01,  3.23106475e+01,  2.92093436e+01,\n",
       "        5.88833981e+01,  1.43456765e+02, -1.20084236e+02, -1.72539756e+02,\n",
       "        6.46684708e+01, -5.41508890e+01, -1.12523096e+02,  2.43239161e+01,\n",
       "       -5.00189524e+01, -7.18233301e+01,  6.09457937e+01, -1.07598698e+01,\n",
       "        1.45746101e+02,  7.16834835e+01,  5.34830116e+00,  1.39162621e+01,\n",
       "        8.21005364e+00,  8.20674994e+01,  1.55659063e+02,  6.22351757e+01,\n",
       "       -8.87323502e+01, -1.33223394e+02, -6.16909779e+01,  5.18637615e+01,\n",
       "        1.14072190e+02, -5.14467175e+01,  1.02432514e+00, -1.27705485e+01,\n",
       "        2.36883907e+01, -7.03504376e+00,  5.76174429e+01, -9.75058551e+01,\n",
       "        5.70896520e+01,  6.77017990e+01, -3.40948542e+01, -3.61727004e+01,\n",
       "        3.25984330e+01, -1.70224837e+02, -1.21617912e+01,  3.06350353e+01,\n",
       "       -4.72940809e+01, -1.16038092e+01,  7.31033141e+00,  5.57897873e+01,\n",
       "       -2.03508570e+01, -5.44666083e+01,  6.80311757e+01,  1.76611354e+02,\n",
       "       -2.24277061e+01, -4.18014296e+01,  5.44341052e+01, -6.57449517e+01,\n",
       "       -1.48469466e+02,  2.05183376e+02, -1.14086796e+02,  1.54710874e+02,\n",
       "        3.52782285e+01,  4.79747856e+01, -9.59423681e+01, -1.26556594e+01,\n",
       "        5.73153341e+01,  7.95651704e+01, -6.76573246e+01,  7.15316933e+01,\n",
       "        1.24114121e+01,  1.34870713e+02,  1.43783014e+02,  1.26486405e+00,\n",
       "       -5.24625134e+01,  8.41132679e+01, -6.09924291e+01,  9.85593207e+01,\n",
       "        2.08555701e+02, -5.64521113e+01, -2.28445854e+01,  3.73556606e+01,\n",
       "       -2.23507566e+01, -9.00654471e+01,  4.39925836e+01, -4.80500357e+01,\n",
       "        5.70702300e+01, -6.93522578e+01, -1.29185817e+02,  8.92586988e+01,\n",
       "        1.61003947e+02, -3.92465028e+01, -8.48609255e+01,  4.85076172e+01,\n",
       "       -1.32999311e+01, -1.28280041e+00,  1.22702254e+02, -3.52058414e+01,\n",
       "       -1.02637612e+01,  5.87630589e+01,  9.67854977e+01, -3.27935331e+01,\n",
       "        1.26527034e+02,  1.34028441e+02,  4.41918569e+01, -5.58935989e+01,\n",
       "        6.64336802e+01, -1.47421676e+02, -3.40946427e+01, -1.07770705e+02,\n",
       "       -1.46814000e+02, -2.83718307e+01,  1.62198510e+01, -1.24220761e+01,\n",
       "        6.54239677e+01, -3.89185667e+01, -3.14512778e+00,  1.59811221e+02,\n",
       "        1.39756932e+02,  4.77209141e+00,  1.24282499e+00, -4.32423446e+01,\n",
       "       -7.31831817e+01,  2.04595100e+01,  1.02387723e+02, -1.34464225e+02,\n",
       "       -6.35179090e+01, -1.14569368e+02, -1.19314123e+02,  6.66453562e+01,\n",
       "        3.12608944e+01, -9.79765493e+01,  1.35570455e+02,  1.01344345e+02,\n",
       "       -5.20904461e+01,  7.51944198e+01,  7.34760597e+01,  1.13641748e+02,\n",
       "        2.40061269e+01,  2.34097166e+02,  8.31246936e+01, -3.43058990e+01,\n",
       "       -1.08032234e+02, -1.60324417e+02,  1.98476991e+02, -9.62030573e+01,\n",
       "       -8.68506107e+01,  6.68097718e+00, -4.49133291e+01,  1.59243134e+02,\n",
       "       -8.26818310e+01,  3.40522270e+01, -1.70317530e+02,  1.18334165e+02,\n",
       "       -5.80754300e+01,  6.35333474e+00, -1.26310577e+02,  4.14361364e+01,\n",
       "       -1.20737095e+02, -4.04273986e+01,  4.34362978e+01, -2.88889410e+01,\n",
       "       -2.17432017e+01,  1.29972271e+01,  3.21141673e+01,  1.34002288e+01,\n",
       "       -1.22308780e+02, -4.71479256e+00, -3.74985938e+01, -3.73074245e+01,\n",
       "       -7.11538167e+01,  4.07285130e+01, -2.63881146e+01,  3.61673161e+01,\n",
       "        3.52855328e+01, -2.77895009e+01, -3.23213754e+01, -6.84246892e+01,\n",
       "       -1.31111751e+01,  1.41659624e+02,  2.74930364e+01,  1.92340866e+01])"
      ]
     },
     "metadata": {},
     "output_type": "display_data"
    },
    {
     "data": {
      "text/plain": [
       "array([62.6735955, 68.0472182])"
      ]
     },
     "metadata": {},
     "output_type": "display_data"
    }
   ],
   "source": [
    "# сгенерируем набор данных\n",
    "X, Y, coef = datasets.make_regression(n_samples=1000, n_features=2, n_informative=2, n_targets=1, \n",
    "                                      noise=5, coef=True, random_state=2)\n",
    "X[:, 0] *= 10\n",
    "display(X, Y, coef)"
   ]
  },
  {
   "cell_type": "code",
   "execution_count": 270,
   "id": "8328ee32",
   "metadata": {},
   "outputs": [
    {
     "data": {
      "text/plain": [
       "array([-0.79012702,  0.02045785])"
      ]
     },
     "metadata": {},
     "output_type": "display_data"
    },
    {
     "data": {
      "text/plain": [
       "array([9.85635367, 0.99101454])"
      ]
     },
     "metadata": {},
     "output_type": "display_data"
    }
   ],
   "source": [
    "# Получим средние значения и стандартное отклонение по столбцам\n",
    "\n",
    "means = np.mean(X, axis=0)\n",
    "stds = np.std(X, axis=0)\n",
    "# параметр axis указывается для вычисления значений по столбцам, а не по всему массиву\n",
    "display(means, stds)"
   ]
  },
  {
   "cell_type": "code",
   "execution_count": 271,
   "id": "c68db4c7",
   "metadata": {},
   "outputs": [],
   "source": [
    "# вычтем каждое значение признака из среднего и поделим на стандартное отклонение\n",
    "for i in range(X.shape[0]):\n",
    "    for j in range(X.shape[1]):\n",
    "        X[i][j] = (X[i][j] - means[j]) / stds[j]"
   ]
  },
  {
   "cell_type": "code",
   "execution_count": 272,
   "id": "71d9e346",
   "metadata": {},
   "outputs": [
    {
     "data": {
      "text/plain": [
       "array([[ 0.46447924, -0.64462559],\n",
       "       [-0.58228272, -1.09738549],\n",
       "       [-1.00118525, -0.3706113 ],\n",
       "       ...,\n",
       "       [ 1.29208317,  0.98990825],\n",
       "       [ 0.20761816,  0.33516651],\n",
       "       [ 0.02259069,  0.39523966]])"
      ]
     },
     "execution_count": 272,
     "metadata": {},
     "output_type": "execute_result"
    }
   ],
   "source": [
    "X"
   ]
  },
  {
   "cell_type": "code",
   "execution_count": 273,
   "id": "dcefa4b1",
   "metadata": {},
   "outputs": [
    {
     "data": {
      "text/plain": [
       "array([-2.40328590e-17,  9.54791801e-18])"
      ]
     },
     "metadata": {},
     "output_type": "display_data"
    },
    {
     "data": {
      "text/plain": [
       "array([1., 1.])"
      ]
     },
     "metadata": {},
     "output_type": "display_data"
    }
   ],
   "source": [
    "means = np.mean(X, axis=0)\n",
    "stds = np.std(X, axis=0)\n",
    "\n",
    "display(means, stds)"
   ]
  },
  {
   "cell_type": "code",
   "execution_count": 276,
   "id": "519439a6",
   "metadata": {},
   "outputs": [
    {
     "data": {
      "text/plain": [
       "array([-3.10209485, -3.37767794])"
      ]
     },
     "metadata": {},
     "output_type": "display_data"
    },
    {
     "data": {
      "text/plain": [
       "array([3.28719806, 4.1253025 ])"
      ]
     },
     "metadata": {},
     "output_type": "display_data"
    }
   ],
   "source": [
    "mins = np.min(X, axis=0)\n",
    "maxs = np.max(X, axis=0)\n",
    "# параметр axis указывается для вычисления значений по столбцам, а не по всему массиву\n",
    "display(mins, maxs)"
   ]
  },
  {
   "cell_type": "code",
   "execution_count": 277,
   "id": "4b605e26",
   "metadata": {},
   "outputs": [],
   "source": [
    "# реализуем функцию, определяющую среднеквадратичную ошибку\n",
    "def mserror(X, w, y_pred):\n",
    "    y = X.dot(w)\n",
    "    return (sum((y - y_pred)**2)) / len(y)"
   ]
  },
  {
   "cell_type": "code",
   "execution_count": 320,
   "id": "ac4f4e07",
   "metadata": {},
   "outputs": [
    {
     "name": "stdout",
     "output_type": "stream",
     "text": [
      "Iteration #0: W_new = [-8.77049099 11.68662531], MSE = 7911.27\n",
      "Iter 30: error - 62.87504415388946, weights: [62.17709724 62.80913449]\n",
      "В случае использования стохастического градиентного спуска ошибка составляет 62.875\n"
     ]
    }
   ],
   "source": [
    "# Стохастический градиентный спуск\n",
    "\n",
    "# инициализируем начальный вектор весов\n",
    "w = np.zeros(X.shape[1])\n",
    "\n",
    "# список векторов весов после каждой итерации\n",
    "w_list_sgd = [w.copy()]\n",
    "\n",
    "# список значений ошибок после каждой итерации\n",
    "errors_sgd = []\n",
    "\n",
    "# шаг градиентного спуска\n",
    "eta = 0.1\n",
    "\n",
    "# максимальное число итераций\n",
    "max_iter = 30\n",
    "\n",
    "# критерий сходимости (разница весов, при которой алгоритм останавливается)\n",
    "min_weight_dist = 1e-8\n",
    "\n",
    "# зададим начальную разницу весов большим числом\n",
    "weight_dist = np.inf\n",
    "\n",
    "# счетчик итераций\n",
    "iter_num = 0\n",
    "\n",
    "np.random.seed(1234)\n",
    "\n",
    "# ход градиентного спуска\n",
    "while weight_dist > min_weight_dist and iter_num < max_iter:\n",
    "    \n",
    "    # генерируем случайный индекс объекта выборки\n",
    "    train_ind = np.random.randint(X.shape[0], size=1)\n",
    "    \n",
    "    y_pred = np.dot(X[train_ind], w)\n",
    "    new_w = w - eta * 2 / Y[train_ind].shape[0] * np.dot(X[train_ind].T, y_pred - Y[train_ind])\n",
    "\n",
    "    weight_dist = np.linalg.norm(new_w - w, ord=2)\n",
    " \n",
    "    error = mserror(X, new_w, Y)\n",
    "    \n",
    "    w_list_sgd.append(new_w.copy())\n",
    "    errors_sgd.append(error)\n",
    "    \n",
    "    if iter_num % 100 == 0:\n",
    "        print(f'Iteration #{iter_num}: W_new = {new_w}, MSE = {round(error, 2)}')\n",
    "\n",
    "    iter_num += 1\n",
    "    w = new_w\n",
    "    \n",
    "w_list_sgd = np.array(w_list_sgd)\n",
    "\n",
    "print(f'Iter {iter_num}: error - {error}, weights: {new_w}')\n",
    "print(f'В случае использования стохастического градиентного спуска ошибка составляет {round(errors_sgd[-1], 4)}')"
   ]
  },
  {
   "cell_type": "code",
   "execution_count": 321,
   "id": "eaec58ea",
   "metadata": {},
   "outputs": [
    {
     "name": "stdout",
     "output_type": "stream",
     "text": [
      "Iteration #0: W_new = [1.19602793 1.32362532], MSE = 7875.58\n",
      "Iter 30: error - 2536.724918524827, weights: [27.37416382 30.25541588]\n",
      "В случае использования градиентного спуска ошибка составляет 38.8486\n"
     ]
    }
   ],
   "source": [
    "# Градиентный спуск\n",
    "\n",
    "w = np.zeros(X.shape[1])\n",
    "w_list_gd = [w.copy()]\n",
    "errors_gd = []\n",
    "\n",
    "eta = 0.01\n",
    "\n",
    "max_iter = 30\n",
    "\n",
    "# критерий сходимости (разница весов, при которой алгоритм останавливается)\n",
    "min_weight_dist = 1e-8\n",
    "\n",
    "# зададим начальную разницу весов большим числом\n",
    "weight_dist = np.inf\n",
    "\n",
    "iter_num = 0\n",
    "\n",
    "np.random.seed(1234)\n",
    "\n",
    "# ход градиентного спуска\n",
    "while weight_dist > min_weight_dist and iter_num < max_iter:\n",
    "            \n",
    "    y_pred = np.dot(X, w)\n",
    "    new_w = w - eta * 2 / Y.shape[0] * np.dot(X.T, y_pred - Y)\n",
    "\n",
    "    weight_dist = np.linalg.norm(new_w - w, ord=2)\n",
    " \n",
    "    error = mserror(X, new_w, Y)\n",
    "    \n",
    "    w_list_gd.append(new_w.copy())\n",
    "    errors_gd.append(error)\n",
    "    \n",
    "    if iter_num % 100 == 0:\n",
    "        print(f'Iteration #{iter_num}: W_new = {new_w}, MSE = {round(error, 2)}')\n",
    "\n",
    "    iter_num += 1\n",
    "    w = new_w\n",
    "    \n",
    "w_list_gd = np.array(w_list_gd)\n",
    "\n",
    "print(f'Iter {iter_num}: error - {error}, weights: {new_w}')\n",
    "print(f'В случае использования градиентного спуска ошибка составляет {round(errors[-1], 4)}')"
   ]
  },
  {
   "cell_type": "code",
   "execution_count": 322,
   "id": "e3642a48",
   "metadata": {},
   "outputs": [
    {
     "data": {
      "image/png": "[encoded data removed]",
      "text/plain": [
       "<Figure size 432x288 with 1 Axes>"
      ]
     },
     "metadata": {
      "needs_background": "light"
     },
     "output_type": "display_data"
    }
   ],
   "source": [
    "# Визуализируем изменение весов (красной точкой обозначены истинные веса, сгенерированные вначале)\n",
    "plt.title('SGD & GD difference')\n",
    "plt.xlabel(r'$w_1$')\n",
    "plt.ylabel(r'$w_2$')\n",
    "\n",
    "plt.scatter(w_list_sgd[:, 0], w_list_sgd[:, 1])\n",
    "plt.scatter(coef[0], coef[1], c='r')\n",
    "plt.plot(w_list_sgd[:, 0], w_list_sgd[:, 1])\n",
    "plt.scatter(w_list_gd[:, 0], w_list_gd[:, 1])\n",
    "plt.scatter(w_list_gd[:, 0], w_list_gd[:, 1])\n",
    "\n",
    "plt.show()"
   ]
  },
  {
   "cell_type": "code",
   "execution_count": 323,
   "id": "ed40da45",
   "metadata": {},
   "outputs": [
    {
     "data": {
      "text/plain": [
       "Text(0, 0.5, 'MSE')"
      ]
     },
     "execution_count": 323,
     "metadata": {},
     "output_type": "execute_result"
    },
    {
     "data": {
      "image/png": "[encoded data removed]",
      "text/plain": [
       "<Figure size 432x288 with 1 Axes>"
      ]
     },
     "metadata": {
      "needs_background": "light"
     },
     "output_type": "display_data"
    }
   ],
   "source": [
    "# Визуализация графика ошибок MSE при SGD и GD\n",
    "plt.plot(range(len(errors_sgd)), errors_sgd)\n",
    "plt.plot(range(len(errors_gd)), errors_gd)\n",
    "plt.title('MSE')\n",
    "plt.xlabel('Iteration number')\n",
    "plt.ylabel('MSE')"
   ]
  },
  {
   "cell_type": "markdown",
   "id": "a2f877e8",
   "metadata": {},
   "source": [
    "Сделал специально меньшее количество итераций, чтобы графики были более наглядными.\n",
    "Стохастический градиентный спуск быстрее, но менее прямолинейко сближается с целевыми коэффциентами. А обычному градиентному спуску даже не хватило итераций чтобы добраться до целевых коэффициентов. \n",
    "График ошибок SGD и GD сильно отличаются. Если MSE графи GD ровный и равномерный, то график ошибки SGD имеет более рваный характер."
   ]
  }
 ],
 "metadata": {
  "kernelspec": {
   "display_name": "Python 3",
   "language": "python",
   "name": "python3"
  },
  "language_info": {
   "codemirror_mode": {
    "name": "ipython",
    "version": 3
   },
   "file_extension": ".py",
   "mimetype": "text/x-python",
   "name": "python",
   "nbconvert_exporter": "python",
   "pygments_lexer": "ipython3",
   "version": "3.9.6"
  }
 },
 "nbformat": 4,
 "nbformat_minor": 5
}
